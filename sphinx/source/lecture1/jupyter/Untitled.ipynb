{
 "cells": [
  {
   "cell_type": "markdown",
   "id": "a713d3ae",
   "metadata": {},
   "source": [
    "# Cooling dike\n",
    "script to solve something"
   ]
  },
  {
   "cell_type": "code",
   "execution_count": 1,
   "id": "923a1d88",
   "metadata": {},
   "outputs": [],
   "source": [
    "import numpy as np\n",
    "import matplotlib.pyplot as plt\n",
    "from matplotlib import animation\n",
    "from IPython.display import HTML"
   ]
  },
  {
   "cell_type": "code",
   "execution_count": 2,
   "id": "614c4d4a",
   "metadata": {},
   "outputs": [],
   "source": [
    "L       = 100           # Length of modeled domain [m]\n",
    "Tmagma  = 1200          # Temperature of magma [C]\n",
    "Trock   = 300           # Temperature of country rock [C]\n",
    "kappa   = 1e-6          # Thermal diffusivity of rock [m2/s]\n",
    "W       = 5;            # Width of dike [m]\n",
    "day     = 60*60*24       # # seconds per day\n",
    "dt      = 1*day         # Timestep [s]"
   ]
  },
  {
   "cell_type": "code",
   "execution_count": 3,
   "id": "e13a6f51",
   "metadata": {},
   "outputs": [
    {
     "name": "stdout",
     "output_type": "stream",
     "text": [
      "100\n"
     ]
    }
   ],
   "source": [
    "print(L)"
   ]
  },
  {
   "cell_type": "code",
   "execution_count": 4,
   "id": "ae610a8e",
   "metadata": {},
   "outputs": [
    {
     "name": "stdout",
     "output_type": "stream",
     "text": [
      "86400\n"
     ]
    }
   ],
   "source": [
    "print(day)"
   ]
  },
  {
   "cell_type": "code",
   "execution_count": null,
   "id": "3fdc439d",
   "metadata": {},
   "outputs": [],
   "source": []
  },
  {
   "cell_type": "code",
   "execution_count": null,
   "id": "0f661963",
   "metadata": {},
   "outputs": [],
   "source": []
  },
  {
   "cell_type": "code",
   "execution_count": null,
   "id": "4d9854a2",
   "metadata": {},
   "outputs": [],
   "source": []
  },
  {
   "cell_type": "code",
   "execution_count": null,
   "id": "ea7f178b",
   "metadata": {},
   "outputs": [],
   "source": []
  }
 ],
 "metadata": {
  "kernelspec": {
   "display_name": "py3_sphinx",
   "language": "python",
   "name": "py3_sphinx"
  },
  "language_info": {
   "codemirror_mode": {
    "name": "ipython",
    "version": 3
   },
   "file_extension": ".py",
   "mimetype": "text/x-python",
   "name": "python",
   "nbconvert_exporter": "python",
   "pygments_lexer": "ipython3",
   "version": "3.7.0"
  }
 },
 "nbformat": 4,
 "nbformat_minor": 5
}
