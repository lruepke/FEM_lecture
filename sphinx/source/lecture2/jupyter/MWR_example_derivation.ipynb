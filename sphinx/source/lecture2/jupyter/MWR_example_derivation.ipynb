{
 "cells": [
  {
   "cell_type": "markdown",
   "id": "22f2968e",
   "metadata": {},
   "source": [
    "# Derivation of MWR coefficients - adv/diff example"
   ]
  },
  {
   "cell_type": "code",
   "execution_count": 1,
   "id": "015feb92",
   "metadata": {},
   "outputs": [],
   "source": [
    "import numpy as np\n",
    "import matplotlib.pyplot as plt\n",
    "from sympy import *"
   ]
  },
  {
   "cell_type": "markdown",
   "id": "77c68eef",
   "metadata": {},
   "source": [
    "## Collocation method"
   ]
  },
  {
   "cell_type": "code",
   "execution_count": 36,
   "id": "5b9b9e4c",
   "metadata": {},
   "outputs": [],
   "source": [
    " a2, x, c, K = symbols('a2 x c K')"
   ]
  },
  {
   "cell_type": "code",
   "execution_count": 37,
   "id": "d9904bdc",
   "metadata": {},
   "outputs": [
    {
     "data": {
      "text/plain": [
       "[c/(2*K)]"
      ]
     },
     "execution_count": 37,
     "metadata": {},
     "output_type": "execute_result"
    }
   ],
   "source": [
    "xc      = 0.5 #collocation point\n",
    "Ri      = c*((1-a2)+2*a2*xc) - K*2*a2\n",
    "a2      = solve(Ri, a2)\n",
    "a2"
   ]
  },
  {
   "cell_type": "markdown",
   "id": "04ac704b",
   "metadata": {},
   "source": [
    "## Least Squares method\n",
    "Try to compute the functional form of the coefficient a2 using the symbolic math package following the example given above."
   ]
  },
  {
   "cell_type": "code",
   "execution_count": 2,
   "id": "18dc5a09",
   "metadata": {},
   "outputs": [],
   "source": [
    "a2, x, c, K = symbols('a2 x c K')\n",
    "#Ri          = ???\n",
    "#Wi          = ???\n",
    "#a2          = ???\n",
    "#a2\n"
   ]
  },
  {
   "cell_type": "code",
   "execution_count": 3,
   "id": "7de4ee4c",
   "metadata": {},
   "outputs": [
    {
     "data": {
      "text/plain": [
       "[6*K*c/(12*K**2 + c**2)]"
      ]
     },
     "execution_count": 3,
     "metadata": {},
     "output_type": "execute_result"
    }
   ],
   "source": [
    "# hide\n",
    "Ri          = c*((1-a2)+2*a2*x) - K*2*a2\n",
    "Wi          = diff(Ri,a2)\n",
    "a2          = solve(integrate(Wi*Ri,(x,0,1)),a2)\n",
    "a2"
   ]
  },
  {
   "cell_type": "markdown",
   "id": "6052bfc9",
   "metadata": {},
   "source": [
    "## Galerkin method"
   ]
  },
  {
   "cell_type": "code",
   "execution_count": 4,
   "id": "11124b2f",
   "metadata": {},
   "outputs": [],
   "source": [
    "a2, x, c, K = symbols('a2 x c K')\n",
    "#Ri          = ???\n",
    "#Wi          = ???\n",
    "#a2          = ???\n",
    "# a2"
   ]
  },
  {
   "cell_type": "code",
   "execution_count": 5,
   "id": "b3da5155",
   "metadata": {},
   "outputs": [
    {
     "data": {
      "text/plain": [
       "[c/(2*K)]"
      ]
     },
     "execution_count": 5,
     "metadata": {},
     "output_type": "execute_result"
    }
   ],
   "source": [
    "# hide\n",
    "Ri          = c*((1-a2)+2*a2*x) - K*2*a2\n",
    "Wi          = (x**2-x);\n",
    "a2          = solve(integrate(Wi*Ri,(x,0,1)),a2)\n",
    "a2"
   ]
  },
  {
   "cell_type": "code",
   "execution_count": null,
   "id": "c532e6e3",
   "metadata": {},
   "outputs": [],
   "source": []
  }
 ],
 "metadata": {
  "kernelspec": {
   "display_name": "py3_htf_class",
   "language": "python",
   "name": "py3_htf_class"
  },
  "language_info": {
   "codemirror_mode": {
    "name": "ipython",
    "version": 3
   },
   "file_extension": ".py",
   "mimetype": "text/x-python",
   "name": "python",
   "nbconvert_exporter": "python",
   "pygments_lexer": "ipython3",
   "version": "3.7.10"
  }
 },
 "nbformat": 4,
 "nbformat_minor": 5
}
