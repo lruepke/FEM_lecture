{
 "cells": [
  {
   "cell_type": "markdown",
   "id": "10b7cd01",
   "metadata": {},
   "source": [
    "# Numerical 1-D FEM solution of the heat diffusion equation"
   ]
  },
  {
   "cell_type": "code",
   "execution_count": 52,
   "id": "76b935c6",
   "metadata": {},
   "outputs": [],
   "source": [
    "import numpy as np\n",
    "import matplotlib.pyplot as plt\n",
    "import sympy as sy\n",
    "from scipy.sparse import csr_matrix\n",
    "from scipy import sparse\n",
    "from numpy import array"
   ]
  },
  {
   "cell_type": "markdown",
   "id": "0beb0f46",
   "metadata": {},
   "source": [
    "First we define some numerical constants and define the problem"
   ]
  },
  {
   "cell_type": "code",
   "execution_count": 22,
   "id": "f70ce261",
   "metadata": {},
   "outputs": [],
   "source": [
    "#constants\n",
    "lx          = 10           #width\n",
    "nnod        = 7            #number of nodes\n",
    "nnodel      = 2            #nodes per element\n",
    "k           = 1            #conductivity\n",
    "Q           = 1            #source term\n",
    "Tleft       = 0            #T boundary conditions\n",
    "Trite       = 0\n",
    "\n",
    "#numerics\n",
    "nel         = nnod-1       #numnber of elements\n",
    "\n"
   ]
  },
  {
   "cell_type": "markdown",
   "id": "2e693dad",
   "metadata": {},
   "source": [
    "Now we make our FEM mesh and element connectivity"
   ]
  },
  {
   "cell_type": "code",
   "execution_count": 23,
   "id": "8906c201",
   "metadata": {},
   "outputs": [],
   "source": [
    "Gcoord, dx      = np.linspace(0,lx,nnod,   retstep=True) #global coordinates\n",
    "EL2NOD      = np.array([np.arange(1,nnod), np.arange(2,nnod+1)])  # connectivity matrix"
   ]
  },
  {
   "cell_type": "markdown",
   "id": "3f65131a",
   "metadata": {},
   "source": [
    "Now we spell out our analytically-derived element stiffness matrix (see previous sections):"
   ]
  },
  {
   "cell_type": "code",
   "execution_count": 37,
   "id": "56abe7d9",
   "metadata": {},
   "outputs": [],
   "source": [
    "Ael    = np.array([[k/dx, -k/dx],[-k/dx, k/dx]])\n",
    "Rhs_el  = np.array([Q*dx/2, Q*dx/2])"
   ]
  },
  {
   "cell_type": "markdown",
   "id": "78689027",
   "metadata": {},
   "source": [
    "And allocate the global Rhs and coefficient matrix arrays"
   ]
  },
  {
   "cell_type": "code",
   "execution_count": 41,
   "id": "a518c501",
   "metadata": {},
   "outputs": [],
   "source": [
    "A_all   = np.zeros((nnod, nnod))\n",
    "Rhs_all = np.zeros(nnod)"
   ]
  },
  {
   "cell_type": "markdown",
   "id": "2a99661d",
   "metadata": {},
   "source": [
    "Now we need to loop over all elements and assemble the global stiffness matrix"
   ]
  },
  {
   "cell_type": "code",
   "execution_count": 92,
   "id": "2cbcf565",
   "metadata": {},
   "outputs": [
    {
     "name": "stdout",
     "output_type": "stream",
     "text": [
      "[[1 2]\n",
      " [3 4]]\n",
      "[array([1., 1., 2., 2.])]\n",
      "[array([1., 2., 1., 2.])]\n",
      "[array([1, 2, 3, 4])]\n"
     ]
    }
   ],
   "source": [
    "I = []\n",
    "J = []\n",
    "K = []\n",
    "At = np.array([[1,2], [3,4]])\n",
    "print(At)\n",
    "#J = array([1,2])\n",
    "#V = array([1,1])\n",
    "#A = sparse.coo_matrix((V,(I,J)),shape=(4,4))\n",
    "#print(A)\n",
    "\n",
    "I.append((EL2NOD[:,iel]*np.ones((nnodel,1))).T.reshape(nnodel*nnodel))\n",
    "print(I)\n",
    "J.append((np.ones((2,1)) * EL2NOD[:,0]).reshape(4))\n",
    "print(J)\n",
    "K.append(At.reshape(4))\n",
    "print(K)"
   ]
  },
  {
   "cell_type": "code",
   "execution_count": 122,
   "id": "552dbd5a",
   "metadata": {},
   "outputs": [
    {
     "name": "stdout",
     "output_type": "stream",
     "text": [
      "[2. 2. 3. 3.]\n"
     ]
    },
    {
     "ename": "TypeError",
     "evalue": "'tuple' object is not callable",
     "output_type": "error",
     "traceback": [
      "\u001b[0;31m---------------------------------------------------------------------------\u001b[0m",
      "\u001b[0;31mTypeError\u001b[0m                                 Traceback (most recent call last)",
      "\u001b[0;32m<ipython-input-122-87a1f703eed0>\u001b[0m in \u001b[0;36m<module>\u001b[0;34m\u001b[0m\n\u001b[1;32m      3\u001b[0m \u001b[0mK\u001b[0m \u001b[0;34m=\u001b[0m \u001b[0mAel\u001b[0m\u001b[0;34m.\u001b[0m\u001b[0mreshape\u001b[0m\u001b[0;34m(\u001b[0m\u001b[0mnnodel\u001b[0m\u001b[0;34m*\u001b[0m\u001b[0mnnodel\u001b[0m\u001b[0;34m)\u001b[0m\u001b[0;34m\u001b[0m\u001b[0;34m\u001b[0m\u001b[0m\n\u001b[1;32m      4\u001b[0m \u001b[0mprint\u001b[0m\u001b[0;34m(\u001b[0m\u001b[0mI\u001b[0m\u001b[0;34m)\u001b[0m\u001b[0;34m\u001b[0m\u001b[0;34m\u001b[0m\u001b[0m\n\u001b[0;32m----> 5\u001b[0;31m \u001b[0mI\u001b[0m\u001b[0;34m.\u001b[0m\u001b[0mshape\u001b[0m\u001b[0;34m(\u001b[0m\u001b[0;34m)\u001b[0m\u001b[0;34m\u001b[0m\u001b[0;34m\u001b[0m\u001b[0m\n\u001b[0m\u001b[1;32m      6\u001b[0m \u001b[0;34m\u001b[0m\u001b[0m\n\u001b[1;32m      7\u001b[0m \u001b[0;32mfor\u001b[0m \u001b[0miel\u001b[0m \u001b[0;32min\u001b[0m \u001b[0mrange\u001b[0m\u001b[0;34m(\u001b[0m\u001b[0;36m1\u001b[0m\u001b[0;34m,\u001b[0m\u001b[0mnel\u001b[0m\u001b[0;34m)\u001b[0m\u001b[0;34m:\u001b[0m\u001b[0;34m\u001b[0m\u001b[0;34m\u001b[0m\u001b[0m\n",
      "\u001b[0;31mTypeError\u001b[0m: 'tuple' object is not callable"
     ]
    }
   ],
   "source": [
    "\n",
    "I = (EL2NOD[:,iel]*np.ones((nnodel,1))).T.reshape(nnodel*nnodel)\n",
    "J = (np.ones((nnodel,1)) * EL2NOD[:,0]).reshape(nnodel*nnodel)\n",
    "K = Ael.reshape(nnodel*nnodel)\n",
    "print(I)\n",
    "I.shape()\n",
    "\n",
    "for iel in range(1,nel):\n",
    "    \n",
    "    I.concatenate((EL2NOD[:,iel]*np.ones((nnodel,1))).T.reshape(nnodel*nnodel))\n",
    "    J.concatenate((np.ones((nnodel,1)) * EL2NOD[:,0]).reshape(nnodel*nnodel))\n",
    "    K.concatenate(Ael.reshape(nnodel*nnodel))\n",
    "       \n",
    "    #A[EL2NOD[0,iel]-1,EL2NOD[0,iel]-1] = A[list(EL2NOD[:,iel]-1), list(EL2NOD[:,iel]-1)] + Ael\n",
    "\n",
    "print(I)\n",
    "#I=np.array(I)\n",
    "    \n",
    "#I.reshape(nnod*nnod)\n",
    "#J.reshape(nnod*nnod)\n",
    "#K.reshape(nnod*nnod)\n",
    "#A = sparse.coo_matrix((K,(I,J)),shape=(nnod,nnod))"
   ]
  },
  {
   "cell_type": "code",
   "execution_count": null,
   "id": "58265819",
   "metadata": {},
   "outputs": [],
   "source": []
  },
  {
   "cell_type": "code",
   "execution_count": null,
   "id": "5469c9de",
   "metadata": {},
   "outputs": [],
   "source": [
    "\n",
    "%local stiffness matrix and local RHS\n",
    "K_el    = [k/dx, -k/dx; -k/dx, k/dx];\n",
    "Rhs_el  = [Q*dx/2; Q*dx/2];\n",
    "\n",
    "%storage global stiffness matrix and RHS vector\n",
    "K_all   = sparse(nnod,nnod);\n",
    "Rhs_all = zeros(nnod,1);\n",
    "\n",
    "%assembly loop over all elements\n",
    "for iel=1:nel\n",
    "    \n",
    "    %sort local stiffness matrix into global\n",
    "    K_all(EL2NOD(iel,:), EL2NOD(iel,:)) = K_all(EL2NOD(iel,:), EL2NOD(iel,:)) + K_el;\n",
    "    \n",
    "    %sort local RHS into global RHS\n",
    "    Rhs_all(EL2NOD(iel,:)) = Rhs_all(EL2NOD(iel,:)) + Rhs_el;\n",
    "end\n",
    "    \n",
    "%Apply boundary conditions\n",
    "K_all(1,:) = 0; K_all(1,1) = 1; Rhs_all(1) = Tleft;\n",
    "K_all(end,:) = 0; K_all(end,end) = 1; Rhs_all(end) = Trite;\n",
    "\n",
    "%and solve\n",
    "T = K_all\\Rhs_all;\n",
    "\n",
    "%Analytical solution\n",
    "X     = linspace(0,lx, 100*nnod);\n",
    "T_ana = -1/2*Q/k*X.^2 + 1/2*Q/k*lx*X;\n",
    "\n",
    "%Plotting\n",
    "figure(1),\n",
    "plot(Gcoord,T,'-o',X,T_ana);\n",
    "legend('FEM', 'Analytical');\n",
    "xlabel('Distance')\n",
    "ylabel('Temperature');\n",
    "box on\n",
    "grid on\n",
    "\n",
    "\n",
    "\n"
   ]
  },
  {
   "cell_type": "code",
   "execution_count": null,
   "id": "82336171",
   "metadata": {},
   "outputs": [],
   "source": []
  },
  {
   "cell_type": "code",
   "execution_count": null,
   "id": "f074dd94",
   "metadata": {},
   "outputs": [],
   "source": []
  },
  {
   "cell_type": "code",
   "execution_count": null,
   "id": "f5d48a82",
   "metadata": {},
   "outputs": [],
   "source": []
  }
 ],
 "metadata": {
  "kernelspec": {
   "display_name": "py3_htf_class",
   "language": "python",
   "name": "py3_htf_class"
  },
  "language_info": {
   "codemirror_mode": {
    "name": "ipython",
    "version": 3
   },
   "file_extension": ".py",
   "mimetype": "text/x-python",
   "name": "python",
   "nbconvert_exporter": "python",
   "pygments_lexer": "ipython3",
   "version": "3.7.10"
  }
 },
 "nbformat": 4,
 "nbformat_minor": 5
}
