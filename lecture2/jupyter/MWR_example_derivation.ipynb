{
 "cells": [
  {
   "cell_type": "markdown",
   "id": "22f2968e",
   "metadata": {},
   "source": [
    "# Derivation of MWR coefficients - adv/diff example"
   ]
  },
  {
   "cell_type": "code",
   "execution_count": 20,
   "id": "015feb92",
   "metadata": {},
   "outputs": [],
   "source": [
    "import numpy as np\n",
    "import matplotlib.pyplot as plt\n",
    "from sympy import *"
   ]
  },
  {
   "cell_type": "markdown",
   "id": "77c68eef",
   "metadata": {},
   "source": [
    "## Collocation method"
   ]
  },
  {
   "cell_type": "code",
   "execution_count": 22,
   "id": "5b9b9e4c",
   "metadata": {},
   "outputs": [],
   "source": [
    " a2, x, c, K = symbols('a2 x c K')"
   ]
  },
  {
   "cell_type": "code",
   "execution_count": 23,
   "id": "d9904bdc",
   "metadata": {},
   "outputs": [
    {
     "data": {
      "text/plain": [
       "[c/(2*K)]"
      ]
     },
     "execution_count": 23,
     "metadata": {},
     "output_type": "execute_result"
    }
   ],
   "source": [
    "xc      = 0.5 #collocation point\n",
    "Ri      = c*((1-a2)+2*a2*xc) - K*2*a2\n",
    "a2      = solve(Ri, a2)\n",
    "a2"
   ]
  },
  {
   "cell_type": "markdown",
   "id": "04ac704b",
   "metadata": {},
   "source": [
    "## Least Squares method\n",
    "Try to compute the functional form of the coefficient a2 using the symbolic math package following the example given above."
   ]
  },
  {
   "cell_type": "code",
   "execution_count": 25,
   "id": "18dc5a09",
   "metadata": {},
   "outputs": [
    {
     "data": {
      "text/plain": [
       "[6*K*c/(12*K**2 + c**2)]"
      ]
     },
     "execution_count": 25,
     "metadata": {},
     "output_type": "execute_result"
    }
   ],
   "source": [
    "a2, x, c, K = symbols('a2 x c K')\n",
    "Ri          = c*((1-a2)+2*a2*x) - K*2*a2\n",
    "Wi          = diff(Ri,a2)\n",
    "eq          = integrate(Wi*Ri,(x,0,1))\n",
    "a2          = solve(eq, a2)\n",
    "a2\n"
   ]
  },
  {
   "cell_type": "code",
   "execution_count": null,
   "id": "73ea0f24",
   "metadata": {},
   "outputs": [],
   "source": []
  },
  {
   "cell_type": "code",
   "execution_count": null,
   "id": "a3432026",
   "metadata": {},
   "outputs": [],
   "source": []
  },
  {
   "cell_type": "code",
   "execution_count": null,
   "id": "c9da4d96",
   "metadata": {},
   "outputs": [],
   "source": []
  },
  {
   "cell_type": "code",
   "execution_count": null,
   "id": "07a8f1ea",
   "metadata": {},
   "outputs": [],
   "source": []
  },
  {
   "cell_type": "code",
   "execution_count": null,
   "id": "e5eb0c0b",
   "metadata": {},
   "outputs": [],
   "source": []
  },
  {
   "cell_type": "code",
   "execution_count": null,
   "id": "086e06e3",
   "metadata": {},
   "outputs": [],
   "source": []
  },
  {
   "cell_type": "code",
   "execution_count": 3,
   "id": "02d729a1",
   "metadata": {},
   "outputs": [
    {
     "data": {
      "text/plain": [
       "[6*K*c/(12*K**2 + c**2)]"
      ]
     },
     "execution_count": 3,
     "metadata": {},
     "output_type": "execute_result"
    }
   ],
   "source": [
    "# hide: the code in this cell is hidden by the author"
   ]
  },
  {
   "cell_type": "markdown",
   "id": "6052bfc9",
   "metadata": {},
   "source": [
    "## Galerkin method"
   ]
  },
  {
   "cell_type": "code",
   "execution_count": 27,
   "id": "11124b2f",
   "metadata": {},
   "outputs": [],
   "source": [
    "a2, x, c, K = symbols('a2 x c K')\n",
    "#Ri          = ???\n",
    "#Wi          = ???\n",
    "#a2          = ???\n",
    "# a2"
   ]
  },
  {
   "cell_type": "code",
   "execution_count": 28,
   "id": "8ecd9307",
   "metadata": {},
   "outputs": [
    {
     "data": {
      "text/plain": [
       "[c/(2*K)]"
      ]
     },
     "execution_count": 28,
     "metadata": {},
     "output_type": "execute_result"
    }
   ],
   "source": [
    "# hide: the code in this cell is hidden by the author"
   ]
  },
  {
   "cell_type": "code",
   "execution_count": 29,
   "id": "c532e6e3",
   "metadata": {},
   "outputs": [],
   "source": [
    "b,y    = symbols('b y')\n",
    "\n"
   ]
  },
  {
   "cell_type": "code",
   "execution_count": 30,
   "id": "8e48605b",
   "metadata": {},
   "outputs": [
    {
     "data": {
      "text/plain": [
       "[5/2]"
      ]
     },
     "execution_count": 30,
     "metadata": {},
     "output_type": "execute_result"
    }
   ],
   "source": [
    "eq = 2*y-5\n",
    "solve(eq,y)"
   ]
  },
  {
   "cell_type": "code",
   "execution_count": 32,
   "id": "f9511401",
   "metadata": {},
   "outputs": [
    {
     "data": {
      "text/latex": [
       "$\\displaystyle \\frac{1}{y}$"
      ],
      "text/plain": [
       "1/y"
      ]
     },
     "execution_count": 32,
     "metadata": {},
     "output_type": "execute_result"
    }
   ],
   "source": [
    "diff(log(y),y)"
   ]
  },
  {
   "cell_type": "code",
   "execution_count": null,
   "id": "9e403ee7",
   "metadata": {},
   "outputs": [],
   "source": []
  }
 ],
 "metadata": {
  "kernelspec": {
   "display_name": "py3_htf_class",
   "language": "python",
   "name": "py3_htf_class"
  },
  "language_info": {
   "codemirror_mode": {
    "name": "ipython",
    "version": 3
   },
   "file_extension": ".py",
   "mimetype": "text/x-python",
   "name": "python",
   "nbconvert_exporter": "python",
   "pygments_lexer": "ipython3",
   "version": "3.7.10"
  }
 },
 "nbformat": 4,
 "nbformat_minor": 5
}
