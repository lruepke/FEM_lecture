{
 "cells": [
  {
   "cell_type": "markdown",
   "id": "34b52134",
   "metadata": {},
   "source": [
    "# Symbolic derivation of 1-D FEM stiffness matrix"
   ]
  },
  {
   "cell_type": "markdown",
   "id": "afa777f4",
   "metadata": {},
   "source": [
    "First import everything. Note how we now import sympy as sy to make it clear which functions we are using"
   ]
  },
  {
   "cell_type": "code",
   "execution_count": null,
   "id": "d9f6ed97",
   "metadata": {},
   "outputs": [],
   "source": [
    "import numpy as np\n",
    "import matplotlib.pyplot as plt\n",
    "import sympy as sy"
   ]
  },
  {
   "cell_type": "markdown",
   "id": "c284aaf4",
   "metadata": {},
   "source": [
    "Now we define the symbols, compute the shape function, and build the stiffness matrix of a single elelemt."
   ]
  },
  {
   "cell_type": "code",
   "execution_count": 137,
   "id": "f67a152b",
   "metadata": {},
   "outputs": [],
   "source": [
    "# symbols\n",
    "#dx, x, k, xi = symbols('dx x k xi')\n",
    "    \n",
    "#N1  = 1-(x-xi)/(dx)\n",
    "#N2  = (x-xi)/(dx)\n",
    "\n",
    "#E11 = ???\n",
    "#E12 = ???\n",
    "#E21 = ???\n",
    "#E22 = ???\n",
    "\n",
    "#Ael = Matrix([[?, ?], [?, ?]])\n",
    "#Ael"
   ]
  },
  {
   "cell_type": "code",
   "execution_count": 138,
   "id": "09380c85",
   "metadata": {},
   "outputs": [
    {
     "data": {
      "text/latex": [
       "$\\displaystyle \\left[\\begin{matrix}\\frac{k}{dx} & - \\frac{k}{dx}\\\\- \\frac{k}{dx} & \\frac{k}{dx}\\end{matrix}\\right]$"
      ],
      "text/plain": [
       "Matrix([\n",
       "[ k/dx, -k/dx],\n",
       "[-k/dx,  k/dx]])"
      ]
     },
     "execution_count": 138,
     "metadata": {},
     "output_type": "execute_result"
    }
   ],
   "source": [
    "# hide: the code in this cell is hidden by the author"
   ]
  },
  {
   "cell_type": "markdown",
   "id": "9032e0cc",
   "metadata": {},
   "source": [
    "Now we build the global stiffness matrix by adding all element stiffness matrices to the big global stiffness matrix. Unfortunately, the indexing in sympy matrices is a bit different to normal numpy indexing. \n",
    "\n",
    "We there have to use a little trick that is described here:\n",
    "https://www.reddit.com/r/learnpython/comments/f7uxn6/question_how_to_add_matrix_to_submatrix_in_sympy/\n",
    "\n",
    "We simply identify the upper left index on the left-hand side and use list indexing on the right-hand side when adding the small matrices to the big one."
   ]
  },
  {
   "cell_type": "code",
   "execution_count": 143,
   "id": "24c4fad7",
   "metadata": {},
   "outputs": [
    {
     "name": "stdout",
     "output_type": "stream",
     "text": [
      "[[1 2 3 4]\n",
      " [2 3 4 5]]\n"
     ]
    },
    {
     "data": {
      "text/latex": [
       "$\\displaystyle \\left[\\begin{matrix}\\frac{k}{dx} & - \\frac{k}{dx} & 0 & 0 & 0\\\\- \\frac{k}{dx} & \\frac{2 k}{dx} & - \\frac{k}{dx} & 0 & 0\\\\0 & - \\frac{k}{dx} & \\frac{2 k}{dx} & - \\frac{k}{dx} & 0\\\\0 & 0 & - \\frac{k}{dx} & \\frac{2 k}{dx} & - \\frac{k}{dx}\\\\0 & 0 & 0 & - \\frac{k}{dx} & \\frac{k}{dx}\\end{matrix}\\right]$"
      ],
      "text/plain": [
       "Matrix([\n",
       "[ k/dx,  -k/dx,      0,      0,     0],\n",
       "[-k/dx, 2*k/dx,  -k/dx,      0,     0],\n",
       "[    0,  -k/dx, 2*k/dx,  -k/dx,     0],\n",
       "[    0,      0,  -k/dx, 2*k/dx, -k/dx],\n",
       "[    0,      0,      0,  -k/dx,  k/dx]])"
      ]
     },
     "execution_count": 143,
     "metadata": {},
     "output_type": "execute_result"
    }
   ],
   "source": [
    "# numerical paramters\n",
    "nel     = 4       # number of elements\n",
    "nnodel  = 2       # nodes per element \n",
    "nnod    = nel+1   # number of nodes\n",
    "\n",
    "EL2NOD  = np.array([np.arange(1,nnod), np.arange(2,nnod+1)])  # connectivity matrix\n",
    "print(EL2NOD)\n",
    "\n",
    "# global matrix assemly\n",
    "A = zeros(nnod, nnod)\n",
    "for iel in range(0,nel):\n",
    "    A[EL2NOD[0,iel]-1,EL2NOD[0,iel]-1] = A[list(EL2NOD[:,iel]-1), list(EL2NOD[:,iel]-1)] + Ael\n",
    "\n",
    "A\n"
   ]
  },
  {
   "cell_type": "code",
   "execution_count": 122,
   "id": "fd40a8a4",
   "metadata": {},
   "outputs": [
    {
     "data": {
      "text/plain": [
       "1"
      ]
     },
     "execution_count": 122,
     "metadata": {},
     "output_type": "execute_result"
    }
   ],
   "source": []
  },
  {
   "cell_type": "code",
   "execution_count": null,
   "id": "f6adccb5",
   "metadata": {},
   "outputs": [],
   "source": []
  },
  {
   "cell_type": "code",
   "execution_count": null,
   "id": "57c89b7e",
   "metadata": {},
   "outputs": [],
   "source": []
  },
  {
   "cell_type": "code",
   "execution_count": null,
   "id": "a68551fd",
   "metadata": {},
   "outputs": [],
   "source": []
  }
 ],
 "metadata": {
  "kernelspec": {
   "display_name": "py3_htf_class",
   "language": "python",
   "name": "py3_htf_class"
  },
  "language_info": {
   "codemirror_mode": {
    "name": "ipython",
    "version": 3
   },
   "file_extension": ".py",
   "mimetype": "text/x-python",
   "name": "python",
   "nbconvert_exporter": "python",
   "pygments_lexer": "ipython3",
   "version": "3.7.10"
  }
 },
 "nbformat": 4,
 "nbformat_minor": 5
}
