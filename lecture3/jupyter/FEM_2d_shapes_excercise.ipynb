{
 "cells": [
  {
   "cell_type": "markdown",
   "id": "7d9f72d5",
   "metadata": {},
   "source": [
    "# 2-D FEM shape functions\n",
    "\n",
    "Compute the shape functions at try the interpolation at different \"integration\" pints within the element."
   ]
  },
  {
   "cell_type": "code",
   "execution_count": null,
   "id": "24175b11",
   "metadata": {},
   "outputs": [],
   "source": [
    "import numpy as np"
   ]
  },
  {
   "cell_type": "code",
   "execution_count": null,
   "id": "cb9a90ca",
   "metadata": {},
   "outputs": [],
   "source": [
    "#def shapes():\n",
    "#    \n",
    "#    N1 = ?\n",
    "#    N2 = ?\n",
    "#    N3 = ?\n",
    "#    N4 = ?\n",
    "\n",
    "#    N = np.array([N1, N2, N3, N4])\n",
    "    \n",
    "#    return N"
   ]
  },
  {
   "cell_type": "code",
   "execution_count": 12,
   "id": "e58f8c98",
   "metadata": {},
   "outputs": [],
   "source": [
    "#hide: the code in this cell is hidden by the author"
   ]
  },
  {
   "cell_type": "code",
   "execution_count": 17,
   "id": "76af73a0",
   "metadata": {},
   "outputs": [
    {
     "name": "stdout",
     "output_type": "stream",
     "text": [
      "[[-1  1  1 -1]\n",
      " [-1 -1  0  0]]\n",
      "[0.25 0.25 0.25 0.25]\n",
      "0.5\n"
     ]
    }
   ],
   "source": [
    "# pseudo gcoord\n",
    "GCOORD = np.array([[-1, 1, 1, -1],[-1, -1, 0, 0]])\n",
    "\n",
    "print(GCOORD)\n",
    "# pseudo nodal temperatures\n",
    "T = np.array([0, 0, 1, 1])\n",
    "\n",
    "# interpolatin point\n",
    "xi = 0\n",
    "eta = 0\n",
    "\n",
    "# shape functions at integration point\n",
    "N = shapes()\n",
    "\n",
    "#interpolation\n",
    "print(sum(N*T))"
   ]
  },
  {
   "cell_type": "code",
   "execution_count": null,
   "id": "48a58dd1",
   "metadata": {},
   "outputs": [],
   "source": []
  }
 ],
 "metadata": {
  "kernelspec": {
   "display_name": "py3_htf_class",
   "language": "python",
   "name": "py3_htf_class"
  },
  "language_info": {
   "codemirror_mode": {
    "name": "ipython",
    "version": 3
   },
   "file_extension": ".py",
   "mimetype": "text/x-python",
   "name": "python",
   "nbconvert_exporter": "python",
   "pygments_lexer": "ipython3",
   "version": "3.7.10"
  }
 },
 "nbformat": 4,
 "nbformat_minor": 5
}
