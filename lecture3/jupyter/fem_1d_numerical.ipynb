{
 "cells": [
  {
   "cell_type": "markdown",
   "id": "1200c097",
   "metadata": {},
   "source": [
    "# Numerical 1-D FEM solution of the heat diffusion equation"
   ]
  },
  {
   "cell_type": "code",
   "execution_count": 1,
   "id": "772052cf",
   "metadata": {},
   "outputs": [],
   "source": [
    "import numpy as np\n",
    "import matplotlib.pyplot as plt\n",
    "import sympy as sy\n",
    "from scipy.sparse import csr_matrix\n",
    "from scipy import sparse\n",
    "from numpy import array"
   ]
  },
  {
   "cell_type": "markdown",
   "id": "83da47cc",
   "metadata": {},
   "source": [
    "First we define some numerical constants and define the problem"
   ]
  },
  {
   "cell_type": "code",
   "execution_count": null,
   "id": "c8245910",
   "metadata": {},
   "outputs": [],
   "source": [
    "#constants\n",
    "lx          = 10           #width\n",
    "nnod        = 7            #number of nodes\n",
    "nnodel      = 2            #nodes per element\n",
    "k           = 1            #conductivity\n",
    "Q           = 1            #source term\n",
    "Tleft       = 0            #T boundary conditions\n",
    "Trite       = 0\n",
    "\n",
    "#numerics\n",
    "nel         = nnod-1       #numnber of elements\n",
    "\n"
   ]
  },
  {
   "cell_type": "markdown",
   "id": "3a9bc073",
   "metadata": {},
   "source": [
    "Now we make our FEM mesh and element connectivity"
   ]
  },
  {
   "cell_type": "code",
   "execution_count": null,
   "id": "03de8f74",
   "metadata": {},
   "outputs": [],
   "source": [
    "Gcoord, dx      = np.linspace(0,lx,nnod,   retstep=True) #global coordinates\n",
    "EL2NOD      = np.array([np.arange(1,nnod), np.arange(2,nnod+1)])  # connectivity matrix"
   ]
  },
  {
   "cell_type": "markdown",
   "id": "7ee195b2",
   "metadata": {},
   "source": [
    "Now we spell out our analytically-derived element stiffness matrix (see previous sections):"
   ]
  },
  {
   "cell_type": "code",
   "execution_count": null,
   "id": "92638409",
   "metadata": {},
   "outputs": [],
   "source": [
    "Ael    = np.array([[k/dx, -k/dx],[-k/dx, k/dx]])\n",
    "Rhs_el  = np.array([Q*dx/2, Q*dx/2])"
   ]
  },
  {
   "cell_type": "markdown",
   "id": "c768f016",
   "metadata": {},
   "source": [
    "And allocate the global Rhs and coefficient matrix arrays"
   ]
  },
  {
   "cell_type": "code",
   "execution_count": 5,
   "id": "05ed5405",
   "metadata": {},
   "outputs": [],
   "source": [
    "A_all   = np.zeros((nnod, nnod))\n",
    "Rhs_all = np.zeros(nnod)"
   ]
  },
  {
   "cell_type": "markdown",
   "id": "6d99146e",
   "metadata": {},
   "source": [
    "Now we need to loop over all elements and assemble the global stiffness matrix"
   ]
  },
  {
   "cell_type": "code",
   "execution_count": 7,
   "id": "babd2004",
   "metadata": {},
   "outputs": [
    {
     "name": "stdout",
     "output_type": "stream",
     "text": [
      "[[1 2]\n",
      " [3 4]]\n",
      "[array([1., 1., 2., 2.])]\n",
      "[array([1., 2., 1., 2.])]\n",
      "[array([1, 2, 3, 4])]\n"
     ]
    }
   ],
   "source": [
    "I = []\n",
    "J = []\n",
    "K = []\n",
    "At = np.array([[1,2], [3,4]])\n",
    "print(At)\n",
    "#J = array([1,2])\n",
    "#V = array([1,1])\n",
    "#A = sparse.coo_matrix((V,(I,J)),shape=(4,4))\n",
    "#print(A)\n",
    "\n",
    "I.append((EL2NOD[:,0]*np.ones((nnodel,1))).T.reshape(nnodel*nnodel))\n",
    "print(I)\n",
    "J.append((np.ones((2,1)) * EL2NOD[:,0]).reshape(4))\n",
    "print(J)\n",
    "K.append(At.reshape(4))\n",
    "print(K)"
   ]
  },
  {
   "cell_type": "code",
   "execution_count": 7,
   "id": "0044c243",
   "metadata": {},
   "outputs": [
    {
     "name": "stdout",
     "output_type": "stream",
     "text": [
      "[[1.0, 1.0, 2.0, 2.0], [2.0, 2.0, 3.0, 3.0], [3.0, 3.0, 4.0, 4.0], [4.0, 4.0, 5.0, 5.0], [5.0, 5.0, 6.0, 6.0], [6.0, 6.0, 7.0, 7.0]]\n",
      "[[1.0, 2.0, 1.0, 2.0], [1.0, 2.0, 1.0, 2.0], [1.0, 2.0, 1.0, 2.0], [1.0, 2.0, 1.0, 2.0], [1.0, 2.0, 1.0, 2.0], [1.0, 2.0, 1.0, 2.0]]\n",
      "  (0, 0)\t0.6\n",
      "  (0, 1)\t-0.6\n",
      "  (1, 0)\t-0.6\n",
      "  (1, 1)\t0.6\n",
      "  (1, 0)\t0.6\n",
      "  (1, 1)\t-0.6\n",
      "  (2, 0)\t-0.6\n",
      "  (2, 1)\t0.6\n",
      "  (2, 0)\t0.6\n",
      "  (2, 1)\t-0.6\n",
      "  (3, 0)\t-0.6\n",
      "  (3, 1)\t0.6\n",
      "  (3, 0)\t0.6\n",
      "  (3, 1)\t-0.6\n",
      "  (4, 0)\t-0.6\n",
      "  (4, 1)\t0.6\n",
      "  (4, 0)\t0.6\n",
      "  (4, 1)\t-0.6\n",
      "  (5, 0)\t-0.6\n",
      "  (5, 1)\t0.6\n",
      "  (5, 0)\t0.6\n",
      "  (5, 1)\t-0.6\n",
      "  (6, 0)\t-0.6\n",
      "  (6, 1)\t0.6\n"
     ]
    }
   ],
   "source": [
    "I = []\n",
    "J = []\n",
    "K = []\n",
    "for iel in range(0,nel):\n",
    "    \n",
    "    I.append(list((EL2NOD[:,iel]*np.ones((nnodel,1))).T.reshape(nnodel*nnodel)))\n",
    "    J.append(list((np.ones((nnodel,1)) * EL2NOD[:,0]).reshape(nnodel*nnodel)))\n",
    "    K.append(list(Ael.reshape(nnodel*nnodel)))\n",
    "       \n",
    "    #A[EL2NOD[0,iel]-1,EL2NOD[0,iel]-1] = A[list(EL2NOD[:,iel]-1), list(EL2NOD[:,iel]-1)] + Ael\n",
    "print(I)\n",
    "print(J)\n",
    "I=np.array(I,dtype=int).reshape(-1)-1\n",
    "J=np.array(J,dtype=int).reshape(-1)-1\n",
    "K=np.array(K,dtype=float).reshape(-1)\n",
    "\n",
    "A = sparse.coo_matrix((K,(I,J)),shape=(nnod,nnod))\n",
    "print(A)"
   ]
  },
  {
   "cell_type": "code",
   "execution_count": null,
   "id": "d23de4ba",
   "metadata": {},
   "outputs": [],
   "source": []
  },
  {
   "cell_type": "code",
   "execution_count": null,
   "id": "7830917f",
   "metadata": {},
   "outputs": [],
   "source": [
    "\n",
    "%local stiffness matrix and local RHS\n",
    "K_el    = [k/dx, -k/dx; -k/dx, k/dx];\n",
    "Rhs_el  = [Q*dx/2; Q*dx/2];\n",
    "\n",
    "%storage global stiffness matrix and RHS vector\n",
    "K_all   = sparse(nnod,nnod);\n",
    "Rhs_all = zeros(nnod,1);\n",
    "\n",
    "%assembly loop over all elements\n",
    "for iel=1:nel\n",
    "    \n",
    "    %sort local stiffness matrix into global\n",
    "    K_all(EL2NOD(iel,:), EL2NOD(iel,:)) = K_all(EL2NOD(iel,:), EL2NOD(iel,:)) + K_el;\n",
    "    \n",
    "    %sort local RHS into global RHS\n",
    "    Rhs_all(EL2NOD(iel,:)) = Rhs_all(EL2NOD(iel,:)) + Rhs_el;\n",
    "end\n",
    "    \n",
    "%Apply boundary conditions\n",
    "K_all(1,:) = 0; K_all(1,1) = 1; Rhs_all(1) = Tleft;\n",
    "K_all(end,:) = 0; K_all(end,end) = 1; Rhs_all(end) = Trite;\n",
    "\n",
    "%and solve\n",
    "T = K_all\\Rhs_all;\n",
    "\n",
    "%Analytical solution\n",
    "X     = linspace(0,lx, 100*nnod);\n",
    "T_ana = -1/2*Q/k*X.^2 + 1/2*Q/k*lx*X;\n",
    "\n",
    "%Plotting\n",
    "figure(1),\n",
    "plot(Gcoord,T,'-o',X,T_ana);\n",
    "legend('FEM', 'Analytical');\n",
    "xlabel('Distance')\n",
    "ylabel('Temperature');\n",
    "box on\n",
    "grid on\n",
    "\n",
    "\n",
    "\n"
   ]
  },
  {
   "cell_type": "code",
   "execution_count": null,
   "id": "af7e128f",
   "metadata": {},
   "outputs": [],
   "source": []
  },
  {
   "cell_type": "code",
   "execution_count": null,
   "id": "1c455542",
   "metadata": {},
   "outputs": [],
   "source": []
  },
  {
   "cell_type": "code",
   "execution_count": null,
   "id": "c7b2f0cd",
   "metadata": {},
   "outputs": [],
   "source": []
  }
 ],
 "metadata": {
  "kernelspec": {
   "display_name": "Python 3",
   "language": "python",
   "name": "python3"
  },
  "language_info": {
   "codemirror_mode": {
    "name": "ipython",
    "version": 3
   },
   "file_extension": ".py",
   "mimetype": "text/x-python",
   "name": "python",
   "nbconvert_exporter": "python",
   "pygments_lexer": "ipython3",
   "version": "3.7.4"
  }
 },
 "nbformat": 4,
 "nbformat_minor": 5
}
