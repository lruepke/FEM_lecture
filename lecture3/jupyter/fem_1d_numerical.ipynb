{
 "cells": [
  {
   "cell_type": "markdown",
   "id": "d90178dc",
   "metadata": {},
   "source": [
    "# Numerical 1-D FEM solution of the heat diffusion equation"
   ]
  },
  {
   "cell_type": "code",
   "execution_count": 19,
   "id": "b6ffce47",
   "metadata": {},
   "outputs": [],
   "source": [
    "import numpy as np\n",
    "import matplotlib.pyplot as plt\n",
    "import sympy as sy\n",
    "from scipy.sparse import csr_matrix"
   ]
  },
  {
   "cell_type": "markdown",
   "id": "933f6cd8",
   "metadata": {},
   "source": [
    "First we define some numerical constants and define the problem"
   ]
  },
  {
   "cell_type": "code",
   "execution_count": 22,
   "id": "7759ed47",
   "metadata": {},
   "outputs": [],
   "source": [
    "#constants\n",
    "lx          = 10           #width\n",
    "nnod        = 7            #number of nodes\n",
    "nnodel      = 2            #nodes per element\n",
    "k           = 1            #conductivity\n",
    "Q           = 1            #source term\n",
    "Tleft       = 0            #T boundary conditions\n",
    "Trite       = 0\n",
    "\n",
    "#numerics\n",
    "nel         = nnod-1       #numnber of elements\n",
    "\n"
   ]
  },
  {
   "cell_type": "markdown",
   "id": "30f7b31d",
   "metadata": {},
   "source": [
    "Now we make our FEM mesh and element connectivity"
   ]
  },
  {
   "cell_type": "code",
   "execution_count": 23,
   "id": "37f67a27",
   "metadata": {},
   "outputs": [],
   "source": [
    "Gcoord, dx      = np.linspace(0,lx,nnod,   retstep=True) #global coordinates\n",
    "EL2NOD      = np.array([np.arange(1,nnod), np.arange(2,nnod+1)])  # connectivity matrix"
   ]
  },
  {
   "cell_type": "markdown",
   "id": "6f7272be",
   "metadata": {},
   "source": [
    "Now we spell out our analytically-derived element stiffness matrix (see previous sections):"
   ]
  },
  {
   "cell_type": "code",
   "execution_count": 37,
   "id": "eee803ff",
   "metadata": {},
   "outputs": [],
   "source": [
    "Ael    = np.array([[k/dx, -k/dx],[-k/dx, k/dx]])\n",
    "Rhs_el  = np.array([Q*dx/2, Q*dx/2])"
   ]
  },
  {
   "cell_type": "markdown",
   "id": "7fa6ed57",
   "metadata": {},
   "source": [
    "And allocate the global Rhs and coefficient matrix arrays"
   ]
  },
  {
   "cell_type": "code",
   "execution_count": 41,
   "id": "4a055b25",
   "metadata": {},
   "outputs": [],
   "source": [
    "A_all   = np.zeros((nnod, nnod))\n",
    "Rhs_all = np.zeros(nnod)"
   ]
  },
  {
   "cell_type": "markdown",
   "id": "c1f3fcd3",
   "metadata": {},
   "source": [
    "Now we need to loop over all elements and assemble the global stiffness matrix"
   ]
  },
  {
   "cell_type": "code",
   "execution_count": 50,
   "id": "8f7170d7",
   "metadata": {},
   "outputs": [
    {
     "name": "stdout",
     "output_type": "stream",
     "text": [
      "[1 2]\n",
      "[0. 0.]\n",
      "[[ 0.6 -0.6]\n",
      " [-0.6  0.6]]\n",
      "[2 3]\n",
      "[0. 0.]\n",
      "[[ 0.6 -0.6]\n",
      " [-0.6  0.6]]\n",
      "[3 4]\n",
      "[0. 0.]\n",
      "[[ 0.6 -0.6]\n",
      " [-0.6  0.6]]\n",
      "[4 5]\n",
      "[0. 0.]\n",
      "[[ 0.6 -0.6]\n",
      " [-0.6  0.6]]\n",
      "[5 6]\n",
      "[0. 0.]\n",
      "[[ 0.6 -0.6]\n",
      " [-0.6  0.6]]\n",
      "[6 7]\n",
      "[0. 0.]\n",
      "[[ 0.6 -0.6]\n",
      " [-0.6  0.6]]\n"
     ]
    },
    {
     "data": {
      "text/plain": [
       "array([[0., 0., 0., 0., 0., 0., 0.],\n",
       "       [0., 0., 0., 0., 0., 0., 0.],\n",
       "       [0., 0., 0., 0., 0., 0., 0.],\n",
       "       [0., 0., 0., 0., 0., 0., 0.],\n",
       "       [0., 0., 0., 0., 0., 0., 0.],\n",
       "       [0., 0., 0., 0., 0., 0., 0.],\n",
       "       [0., 0., 0., 0., 0., 0., 0.]])"
      ]
     },
     "execution_count": 50,
     "metadata": {},
     "output_type": "execute_result"
    }
   ],
   "source": [
    "for iel in range(0,nel):\n",
    "    \n",
    "        A_all[list(EL2NOD[:,iel]-1), list(EL2NOD[:,iel]-1)])\n",
    "        #= A_all[list(EL2NOD[:,iel]-1), list(EL2NOD[:,iel]-1)] + Ael\n",
    "    \n",
    "    \n",
    "    #A[EL2NOD[0,iel]-1,EL2NOD[0,iel]-1] = A[list(EL2NOD[:,iel]-1), list(EL2NOD[:,iel]-1)] + Ael\n",
    "\n",
    "A_all"
   ]
  },
  {
   "cell_type": "code",
   "execution_count": null,
   "id": "87d87c0e",
   "metadata": {},
   "outputs": [],
   "source": []
  },
  {
   "cell_type": "code",
   "execution_count": null,
   "id": "a51e13b6",
   "metadata": {},
   "outputs": [],
   "source": [
    "\n",
    "%local stiffness matrix and local RHS\n",
    "K_el    = [k/dx, -k/dx; -k/dx, k/dx];\n",
    "Rhs_el  = [Q*dx/2; Q*dx/2];\n",
    "\n",
    "%storage global stiffness matrix and RHS vector\n",
    "K_all   = sparse(nnod,nnod);\n",
    "Rhs_all = zeros(nnod,1);\n",
    "\n",
    "%assembly loop over all elements\n",
    "for iel=1:nel\n",
    "    \n",
    "    %sort local stiffness matrix into global\n",
    "    K_all(EL2NOD(iel,:), EL2NOD(iel,:)) = K_all(EL2NOD(iel,:), EL2NOD(iel,:)) + K_el;\n",
    "    \n",
    "    %sort local RHS into global RHS\n",
    "    Rhs_all(EL2NOD(iel,:)) = Rhs_all(EL2NOD(iel,:)) + Rhs_el;\n",
    "end\n",
    "    \n",
    "%Apply boundary conditions\n",
    "K_all(1,:) = 0; K_all(1,1) = 1; Rhs_all(1) = Tleft;\n",
    "K_all(end,:) = 0; K_all(end,end) = 1; Rhs_all(end) = Trite;\n",
    "\n",
    "%and solve\n",
    "T = K_all\\Rhs_all;\n",
    "\n",
    "%Analytical solution\n",
    "X     = linspace(0,lx, 100*nnod);\n",
    "T_ana = -1/2*Q/k*X.^2 + 1/2*Q/k*lx*X;\n",
    "\n",
    "%Plotting\n",
    "figure(1),\n",
    "plot(Gcoord,T,'-o',X,T_ana);\n",
    "legend('FEM', 'Analytical');\n",
    "xlabel('Distance')\n",
    "ylabel('Temperature');\n",
    "box on\n",
    "grid on\n",
    "\n",
    "\n",
    "\n"
   ]
  },
  {
   "cell_type": "code",
   "execution_count": null,
   "id": "e27bc2bc",
   "metadata": {},
   "outputs": [],
   "source": []
  },
  {
   "cell_type": "code",
   "execution_count": null,
   "id": "67c3d03c",
   "metadata": {},
   "outputs": [],
   "source": []
  },
  {
   "cell_type": "code",
   "execution_count": null,
   "id": "fbb88bf2",
   "metadata": {},
   "outputs": [],
   "source": []
  }
 ],
 "metadata": {
  "kernelspec": {
   "display_name": "py3_htf_class",
   "language": "python",
   "name": "py3_htf_class"
  },
  "language_info": {
   "codemirror_mode": {
    "name": "ipython",
    "version": 3
   },
   "file_extension": ".py",
   "mimetype": "text/x-python",
   "name": "python",
   "nbconvert_exporter": "python",
   "pygments_lexer": "ipython3",
   "version": "3.7.10"
  }
 },
 "nbformat": 4,
 "nbformat_minor": 5
}
